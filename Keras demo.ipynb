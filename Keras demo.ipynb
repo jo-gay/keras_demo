{
 "cells": [
  {
   "cell_type": "markdown",
   "metadata": {},
   "source": [
    "# Building a neural network in Keras with Tensorflow #\n",
    "\n",
    "### A walkthrough for the Machine Learning Club\n",
    "\n",
    "The goal is to demonstrate how to build a simple neural network using Keras, a popular open source neural network library.\n",
    "\n",
    "The demonstration will use the spam assassin corpus that was used in the Coursera / Stanford Machine Learning course that many members of the group have taken already (see week 7 assignment 'exercise 6'). In the coursera course, we trained a support vector machine (SVM) to classify spam. Here we will use a neural network instead."
   ]
  },
  {
   "cell_type": "code",
   "execution_count": 1,
   "metadata": {},
   "outputs": [],
   "source": [
    "import os\n",
    "import numpy as np\n",
    "import pickle\n",
    "from matplotlib import pyplot as plt\n",
    "%matplotlib inline\n",
    "np.random.seed(1177)"
   ]
  },
  {
   "cell_type": "code",
   "execution_count": 2,
   "metadata": {},
   "outputs": [
    {
     "name": "stderr",
     "output_type": "stream",
     "text": [
      "Using TensorFlow backend.\n"
     ]
    }
   ],
   "source": [
    "import tensorflow as tf\n",
    "import keras"
   ]
  },
  {
   "cell_type": "markdown",
   "metadata": {},
   "source": [
    "### Setup steps:\n",
    "- Create new environment and activate it\n",
    "- Install python and packages per requirements.txt\n",
    "- Run <code>conda install jupyter</code>\n",
    "- Use <code>conda install nb_conda</code> to get Jupyter to use the environment\n",
    "\n",
    "\n",
    "#### Warning: Keras and Tensorflow have a lot of dependencies - it will take a while to install them all.\n",
    "\n",
    "TODO requirements.txt\n",
    "\n",
    "- python\n",
    "- tensorflow\n",
    "- keras\n",
    "- matplotlib\n",
    "- numpy particular version 16.4.? to avoid TF warnings"
   ]
  },
  {
   "cell_type": "code",
   "execution_count": 3,
   "metadata": {},
   "outputs": [],
   "source": [
    "# import library written for coursera exercise 6, providing functions for preprocessing emails (slightly modified for this demo)\n",
    "# and tell it where the vocab list is saved\n",
    "import utils\n",
    "exampleDataPath = 'C:\\\\Users\\\\Jo\\\\Documents\\\\coursera\\\\ml-coursera-python-assignments\\\\Exercise6\\\\Data\\\\'\n",
    "utils.setVocabListPath(os.path.join(exampleDataPath, 'vocab.txt'))"
   ]
  },
  {
   "cell_type": "markdown",
   "metadata": {},
   "source": [
    "## Part 1: feature extraction\n",
    "\n",
    "The data that we want to use is raw text from emails. To train a neural network, we need a fixed number of features for each training example. We therefore cannot use the text itself, but need to extract a set of features from each email. Per the Coursera course, we will use a vocabulary list to define a set of words that we are interested in. These are 'stem' words, with the endings removed (see examples below). We then parse each email in the corpus and record which of the vocab words are present in that email. All other info from the email is disregarded."
   ]
  },
  {
   "cell_type": "code",
   "execution_count": 4,
   "metadata": {
    "scrolled": true
   },
   "outputs": [
    {
     "name": "stdout",
     "output_type": "stream",
     "text": [
      "aa, ab, abil, abl, about, abov, absolut, abus, ac, accept, access, accord, account, achiev, acquir, across, act, action, activ, actual, ad, adam, add, addit, address, administr, adult, advanc, advantag, advertis, advic, advis, ae, af, affect, affili, afford, africa, after, ag, again, against, agenc, agent, ago, agre, agreement, aid, air, al\n"
     ]
    }
   ],
   "source": [
    "# Take a look at the vocab list for info\n",
    "with open(os.path.join(exampleDataPath, 'vocab.txt')) as fid:\n",
    "    vocab_list_contents = fid.read()\n",
    "print(', '.join(vocab_list_contents.split()[1:100:2]))"
   ]
  },
  {
   "cell_type": "markdown",
   "metadata": {},
   "source": [
    "### 1.0 Example feature extraction\n",
    "To illustrate how this works, here is an example email, along with the processed version (reduced to stem words), the matches in the vocab list, and the resulting feature vector"
   ]
  },
  {
   "cell_type": "code",
   "execution_count": 5,
   "metadata": {
    "scrolled": false
   },
   "outputs": [
    {
     "name": "stdout",
     "output_type": "stream",
     "text": [
      "----------------\n",
      "Unprocessed email (string length 393):\n",
      "----------------\n",
      "> Anyone knows how much it costs to host a web portal ?\n",
      ">\n",
      "Well, it depends on how many visitors you're expecting.\n",
      "This can be anywhere from less than 10 bucks a month to a couple of $100. \n",
      "You should checkout http://www.rackspace.com/ or perhaps Amazon EC2 \n",
      "if youre running something big..\n",
      "\n",
      "To unsubscribe yourself from this mailing list, send an email to:\n",
      "groupname-unsubscribe@egroups.com\n",
      "\n",
      "\n",
      "----------------\n",
      "Processed email (63 word stems):\n",
      "----------------\n",
      "anyon know how much it cost to host a web portal well it depend on how mani visitor your expect thi can be anywher from less than number buck a month to a coupl of dollar number you should checkout httpaddr or perhap amazon ec number if your run someth big to unsubscrib yourself from thi mail list send an email to emailaddr\n",
      "\n",
      "----------------\n",
      "Matching word indices (55 matches in vocab list):\n",
      "----------------\n",
      "[85, 915, 793, 1076, 882, 369, 1698, 789, 1821, 1830, 882, 430, 1170, 793, 1001, 1894, 591, 1675, 237, 161, 88, 687, 944, 1662, 1119, 1061, 1698, 374, 1161, 476, 1119, 1892, 1509, 798, 1181, 1236, 511, 1119, 809, 1894, 1439, 1546, 180, 1698, 1757, 1895, 687, 1675, 991, 960, 1476, 70, 529, 1698, 530]\n",
      "\n",
      "----------------\n",
      "Feature vector (vector length 1899 with 45 non-zero entries):\n",
      "----------------\n",
      "...0 0 0 0 0 0 0 0 0 0 0 0 0 0 0 0 0 0 0 0 1 0 0 0 0 0 0 0 0 0 0 0 0 0 0 1 0 0 1 0 0 0 0 0 0 0 0 0 0 0...\n"
     ]
    }
   ],
   "source": [
    "# Extract Features from a sample email\n",
    "with open(os.path.join(exampleDataPath, 'emailSample1.txt')) as fid:\n",
    "    file_contents = fid.read()\n",
    "print('----------------')\n",
    "print(f'Unprocessed email (string length {len(file_contents)}):')\n",
    "print('----------------')\n",
    "print(file_contents)\n",
    "\n",
    "processed_email, word_indices = utils.processEmail(file_contents, verbose=False)\n",
    "features = utils.emailFeatures(word_indices)\n",
    "\n",
    "print('----------------')\n",
    "print(f'Processed email ({len(processed_email)} word stems):')\n",
    "print('----------------')\n",
    "print(' '.join(processed_email))\n",
    "\n",
    "\n",
    "print('\\n----------------')\n",
    "print(f'Matching word indices ({len(word_indices)} matches in vocab list):')\n",
    "print('----------------')\n",
    "print(word_indices)\n",
    "\n",
    "# Print Stats\n",
    "print('\\n----------------')\n",
    "print(f'Feature vector (vector length {len(features)} with {sum(features>0)} non-zero entries):')\n",
    "print('----------------')\n",
    "print('...'+' '.join(features.astype(int).astype(str)[50:100])+'...')"
   ]
  },
  {
   "cell_type": "markdown",
   "metadata": {},
   "source": [
    "### 1.1 Apply the above feature extraction process to each email to obtain our (labelled) training set"
   ]
  },
  {
   "cell_type": "code",
   "execution_count": 6,
   "metadata": {},
   "outputs": [],
   "source": [
    "# \n",
    "# spamAssassinPath = \"C:\\\\Users\\\\Jo\\\\Documents\\\\coursera\\\\ml-coursera-python-assignments\\\\Exercise6\\\\spam_assassin_corpus\"\n",
    "# spam_dir = os.path.join('spam_2', 'spam_2') # Using the original directory structure with annoyingly many directories\n",
    "# easy_ham_dir = os.path.join('easy_ham', 'easy_ham')\n",
    "# hard_ham_dir = os.path.join('hard_ham', 'hard_ham')\n",
    "# training_dirs = {spam_dir:1, easy_ham_dir:0, hard_ham_dir:0}\n",
    "\n",
    "# limit = None\n",
    "\n",
    "# X = []\n",
    "# y = []\n",
    "\n",
    "# # First read all the data (spam, easy ham, hard ham)\n",
    "# for training_dir in training_dirs.keys():\n",
    "#     print(os.path.join(spamAssassinPath, training_dir))\n",
    "#     done = 0\n",
    "#     for root_dir, _, fnames in os.walk(os.path.join(spamAssassinPath, training_dir)):\n",
    "#         for f in fnames:\n",
    "#             with open(os.path.join(root_dir, f)) as fid:\n",
    "#                 try:\n",
    "#                     file_contents = fid.read()\n",
    "#                 except BaseException:\n",
    "#                     print(f\"error reading file {f}\")\n",
    "#                 processed_email, word_indices = utils.processEmail(file_contents, verbose=False)\n",
    "#                 X.append(utils.emailFeatures(word_indices))\n",
    "#                 y.append(training_dirs[training_dir])\n",
    "#                 done += 1\n",
    "#             if limit and done >= limit:\n",
    "#                 break\n",
    "#     print(f\"{done} files processed from directory {training_dir}\")\n",
    "\n",
    "# # Convert to numpy arrays\n",
    "# X, y = np.array(X), np.array(y)\n",
    "\n",
    "# # Dump to a file\n",
    "# with open('Xy.pickle', 'wb') as f:\n",
    "#     pickle.dump((X,y), f)"
   ]
  },
  {
   "cell_type": "code",
   "execution_count": 7,
   "metadata": {},
   "outputs": [],
   "source": [
    "with open('Xy.pickle', 'rb') as f:\n",
    "    data = pickle.load(f)"
   ]
  },
  {
   "cell_type": "code",
   "execution_count": 8,
   "metadata": {},
   "outputs": [],
   "source": [
    "X, y = data[0], data[1]"
   ]
  },
  {
   "cell_type": "code",
   "execution_count": 9,
   "metadata": {},
   "outputs": [
    {
     "name": "stdout",
     "output_type": "stream",
     "text": [
      "Processed 4198 training samples into features of length 1899\n"
     ]
    }
   ],
   "source": [
    "samples, N = len(X), len(X[0])\n",
    "print(f\"Processed {samples} training samples into features of length {N}\")"
   ]
  },
  {
   "cell_type": "markdown",
   "metadata": {},
   "source": [
    "### 1.2 Randomly select training, validation and test datasets"
   ]
  },
  {
   "cell_type": "code",
   "execution_count": 10,
   "metadata": {},
   "outputs": [
    {
     "data": {
      "text/plain": [
       "(821, 285, 291)"
      ]
     },
     "execution_count": 10,
     "metadata": {},
     "output_type": "execute_result"
    }
   ],
   "source": [
    "random_idxs = np.random.permutation(samples) # all the indices in a random order\n",
    "m = int(samples * 0.6)\n",
    "test_size = (samples - m) // 2\n",
    "X_train, y_train = X[random_idxs[:m]], y[random_idxs[:m]]\n",
    "X_validate, y_validate = X[random_idxs[m:(m + test_size)]], y[random_idxs[m:(m + test_size)]]\n",
    "X_test, y_test = X[random_idxs[-test_size:]], y[random_idxs[-test_size:]]\n",
    "# Check we have a reasonable number of positive examples in each set\n",
    "sum(y_train), sum(y_validate), sum(y_test)"
   ]
  },
  {
   "cell_type": "markdown",
   "metadata": {},
   "source": [
    "## Part 2: Build a neural network with Keras\n",
    "\n",
    "Now that we have our training, validation and test sets, with the associated labels, we can train a neural network."
   ]
  },
  {
   "cell_type": "code",
   "execution_count": 24,
   "metadata": {},
   "outputs": [],
   "source": [
    "## Keras imports\n",
    "from keras import models\n",
    "from keras import layers\n",
    "from keras import regularizers"
   ]
  },
  {
   "cell_type": "markdown",
   "metadata": {},
   "source": [
    "### 2.1 Start with a very simple neural network"
   ]
  },
  {
   "cell_type": "code",
   "execution_count": 12,
   "metadata": {},
   "outputs": [
    {
     "name": "stdout",
     "output_type": "stream",
     "text": [
      "WARNING:tensorflow:From C:\\Users\\Jo\\Anaconda3\\envs\\ML_Sth_Keras\\lib\\site-packages\\tensorflow\\python\\ops\\resource_variable_ops.py:435: colocate_with (from tensorflow.python.framework.ops) is deprecated and will be removed in a future version.\n",
      "Instructions for updating:\n",
      "Colocations handled automatically by placer.\n"
     ]
    }
   ],
   "source": [
    "## Create the model and add some layers\n",
    "model = models.Sequential()\n",
    "\n",
    "# First (hidden) layer includes the dimension of the training feature vectors (N)\n",
    "# The input layer is automatically added.\n",
    "model.add(layers.Dense(4, input_dim=N, activation='relu'))\n",
    "\n",
    "## Optional additional layers\n",
    "# Standard fully connected layer\n",
    "model.add(layers.Dense(4, activation='relu'))\n",
    "# ... can add more layers here... see later.\n",
    "\n",
    "# Output layer has 1 element (because we are doing binary classification) and uses sigmoid activation\n",
    "model.add(layers.Dense(1, activation='sigmoid'))"
   ]
  },
  {
   "cell_type": "code",
   "execution_count": 13,
   "metadata": {},
   "outputs": [
    {
     "name": "stdout",
     "output_type": "stream",
     "text": [
      "Model: \"sequential_1\"\n",
      "_________________________________________________________________\n",
      "Layer (type)                 Output Shape              Param #   \n",
      "=================================================================\n",
      "dense_1 (Dense)              (None, 4)                 7600      \n",
      "_________________________________________________________________\n",
      "dense_2 (Dense)              (None, 4)                 20        \n",
      "_________________________________________________________________\n",
      "dense_3 (Dense)              (None, 1)                 5         \n",
      "=================================================================\n",
      "Total params: 7,625\n",
      "Trainable params: 7,625\n",
      "Non-trainable params: 0\n",
      "_________________________________________________________________\n"
     ]
    }
   ],
   "source": [
    "## Compile the model, choosing optimizer, loss function (e.g. mean squared error for regression), \n",
    "#  and metrics that we want to keep track of.\n",
    "model.compile(optimizer='adam', loss='binary_crossentropy', metrics=['accuracy'])\n",
    "model.summary()"
   ]
  },
  {
   "cell_type": "code",
   "execution_count": 14,
   "metadata": {},
   "outputs": [
    {
     "name": "stdout",
     "output_type": "stream",
     "text": [
      "WARNING:tensorflow:From C:\\Users\\Jo\\Anaconda3\\envs\\ML_Sth_Keras\\lib\\site-packages\\tensorflow\\python\\ops\\math_ops.py:3066: to_int32 (from tensorflow.python.ops.math_ops) is deprecated and will be removed in a future version.\n",
      "Instructions for updating:\n",
      "Use tf.cast instead.\n",
      "Epoch 1/20\n",
      "2518/2518 [==============================] - 0s 77us/step - loss: 0.6634 - accuracy: 0.8078\n",
      "Epoch 2/20\n",
      "2518/2518 [==============================] - 0s 18us/step - loss: 0.4860 - accuracy: 0.9083\n",
      "Epoch 3/20\n",
      "2518/2518 [==============================] - 0s 17us/step - loss: 0.2791 - accuracy: 0.9515\n",
      "Epoch 4/20\n",
      "2518/2518 [==============================] - 0s 17us/step - loss: 0.1911 - accuracy: 0.9766\n",
      "Epoch 5/20\n",
      "2518/2518 [==============================] - 0s 15us/step - loss: 0.1378 - accuracy: 0.9889\n",
      "Epoch 6/20\n",
      "2518/2518 [==============================] - 0s 18us/step - loss: 0.1038 - accuracy: 0.9905\n",
      "Epoch 7/20\n",
      "2518/2518 [==============================] - 0s 18us/step - loss: 0.0800 - accuracy: 0.9932\n",
      "Epoch 8/20\n",
      "2518/2518 [==============================] - 0s 17us/step - loss: 0.0643 - accuracy: 0.9940\n",
      "Epoch 9/20\n",
      "2518/2518 [==============================] - 0s 17us/step - loss: 0.0525 - accuracy: 0.9956\n",
      "Epoch 10/20\n",
      "2518/2518 [==============================] - 0s 15us/step - loss: 0.0414 - accuracy: 0.9956\n",
      "Epoch 11/20\n",
      "2518/2518 [==============================] - 0s 18us/step - loss: 0.0304 - accuracy: 0.9964\n",
      "Epoch 12/20\n",
      "2518/2518 [==============================] - 0s 16us/step - loss: 0.0226 - accuracy: 0.9984\n",
      "Epoch 13/20\n",
      "2518/2518 [==============================] - ETA: 0s - loss: 0.0168 - accuracy: 1.00 - 0s 16us/step - loss: 0.0176 - accuracy: 0.9996\n",
      "Epoch 14/20\n",
      "2518/2518 [==============================] - 0s 21us/step - loss: 0.0142 - accuracy: 0.9996\n",
      "Epoch 15/20\n",
      "2518/2518 [==============================] - 0s 18us/step - loss: 0.0117 - accuracy: 1.0000\n",
      "Epoch 16/20\n",
      "2518/2518 [==============================] - 0s 16us/step - loss: 0.0099 - accuracy: 1.0000\n",
      "Epoch 17/20\n",
      "2518/2518 [==============================] - 0s 19us/step - loss: 0.0085 - accuracy: 1.0000\n",
      "Epoch 18/20\n",
      "2518/2518 [==============================] - 0s 18us/step - loss: 0.0073 - accuracy: 1.0000\n",
      "Epoch 19/20\n",
      "2518/2518 [==============================] - 0s 18us/step - loss: 0.0064 - accuracy: 1.0000\n",
      "Epoch 20/20\n",
      "2518/2518 [==============================] - 0s 16us/step - loss: 0.0056 - accuracy: 1.0000\n"
     ]
    },
    {
     "data": {
      "text/plain": [
       "<keras.callbacks.callbacks.History at 0x1405f1c51d0>"
      ]
     },
     "execution_count": 14,
     "metadata": {},
     "output_type": "execute_result"
    }
   ],
   "source": [
    "## Run the training process\n",
    "model.fit(X_train, y_train, epochs=20, batch_size=128)"
   ]
  },
  {
   "cell_type": "code",
   "execution_count": 15,
   "metadata": {},
   "outputs": [
    {
     "name": "stdout",
     "output_type": "stream",
     "text": [
      "840/840 [==============================] - 0s 50us/step\n"
     ]
    },
    {
     "data": {
      "text/plain": [
       "[0.02583749167443741, 0.9916666746139526]"
      ]
     },
     "execution_count": 15,
     "metadata": {},
     "output_type": "execute_result"
    }
   ],
   "source": [
    "## Check how it performs on the validation data\n",
    "loss_and_metrics = model.evaluate(X_validate, y_validate, batch_size=128)\n",
    "loss_and_metrics"
   ]
  },
  {
   "cell_type": "markdown",
   "metadata": {},
   "source": [
    "Result! We have a high level of accuracy (over 99%) for spam classification on this dataset. The training accuracy was 100%."
   ]
  },
  {
   "cell_type": "markdown",
   "metadata": {},
   "source": [
    "### 2.2 Tackle a harder problem\n",
    "To make the problem harder, let's try just using the first 190 features (10% of the data, but note not random: first 10% of words in word index (maybe a-c))\n",
    "\n",
    "First run the same model above, with two dense layers of 4 nodes each. This gives around 95% training acc. Now we adjust the model architecture to try to improve the results.\n",
    "\n",
    "Attempt 1: add some more nodes (2 layers, 8 nodes each)\n",
    "Attempt 2: add another layer (3 layers, 8 nodes each)\n",
    "Attempt 3: add some more nodes (3 layers, 16 nodes each)\n",
    "\n",
    "After attempt 3 we have around 99% accuracy. This is probably the best we can do with the data.\n"
   ]
  },
  {
   "cell_type": "code",
   "execution_count": 44,
   "metadata": {},
   "outputs": [
    {
     "name": "stdout",
     "output_type": "stream",
     "text": [
      "Epoch 1/150\n",
      "2518/2518 [==============================] - 0s 116us/step - loss: 0.7216 - accuracy: 0.3666\n",
      "Epoch 2/150\n",
      "2518/2518 [==============================] - 0s 15us/step - loss: 0.6964 - accuracy: 0.5226\n",
      "Epoch 3/150\n",
      "2518/2518 [==============================] - 0s 14us/step - loss: 0.6863 - accuracy: 0.6541\n",
      "Epoch 4/150\n",
      "2518/2518 [==============================] - 0s 15us/step - loss: 0.6801 - accuracy: 0.6982\n",
      "Epoch 5/150\n",
      "2518/2518 [==============================] - 0s 15us/step - loss: 0.6744 - accuracy: 0.7208\n",
      "Epoch 6/150\n",
      "2518/2518 [==============================] - 0s 15us/step - loss: 0.6682 - accuracy: 0.7399\n",
      "Epoch 7/150\n",
      "2518/2518 [==============================] - 0s 15us/step - loss: 0.6615 - accuracy: 0.7546\n",
      "Epoch 8/150\n",
      "2518/2518 [==============================] - 0s 14us/step - loss: 0.6538 - accuracy: 0.7728\n",
      "Epoch 9/150\n",
      "2518/2518 [==============================] - 0s 16us/step - loss: 0.6448 - accuracy: 0.7895\n",
      "Epoch 10/150\n",
      "2518/2518 [==============================] - 0s 18us/step - loss: 0.6346 - accuracy: 0.8066\n",
      "Epoch 11/150\n",
      "2518/2518 [==============================] - 0s 17us/step - loss: 0.6231 - accuracy: 0.8237\n",
      "Epoch 12/150\n",
      "2518/2518 [==============================] - 0s 15us/step - loss: 0.6102 - accuracy: 0.8312\n",
      "Epoch 13/150\n",
      "2518/2518 [==============================] - 0s 15us/step - loss: 0.5966 - accuracy: 0.8380\n",
      "Epoch 14/150\n",
      "2518/2518 [==============================] - 0s 16us/step - loss: 0.5817 - accuracy: 0.8443\n",
      "Epoch 15/150\n",
      "2518/2518 [==============================] - 0s 15us/step - loss: 0.5660 - accuracy: 0.8550\n",
      "Epoch 16/150\n",
      "2518/2518 [==============================] - 0s 15us/step - loss: 0.5501 - accuracy: 0.8570\n",
      "Epoch 17/150\n",
      "2518/2518 [==============================] - 0s 15us/step - loss: 0.5334 - accuracy: 0.8705\n",
      "Epoch 18/150\n",
      "2518/2518 [==============================] - 0s 15us/step - loss: 0.5190 - accuracy: 0.8789\n",
      "Epoch 19/150\n",
      "2518/2518 [==============================] - 0s 15us/step - loss: 0.5063 - accuracy: 0.8848\n",
      "Epoch 20/150\n",
      "2518/2518 [==============================] - 0s 14us/step - loss: 0.4948 - accuracy: 0.8912\n",
      "Epoch 21/150\n",
      "2518/2518 [==============================] - 0s 16us/step - loss: 0.4848 - accuracy: 0.8963\n",
      "Epoch 22/150\n",
      "2518/2518 [==============================] - 0s 15us/step - loss: 0.4751 - accuracy: 0.8995\n",
      "Epoch 23/150\n",
      "2518/2518 [==============================] - 0s 16us/step - loss: 0.4665 - accuracy: 0.9031\n",
      "Epoch 24/150\n",
      "2518/2518 [==============================] - 0s 15us/step - loss: 0.4581 - accuracy: 0.9039\n",
      "Epoch 25/150\n",
      "2518/2518 [==============================] - 0s 15us/step - loss: 0.4504 - accuracy: 0.9067\n",
      "Epoch 26/150\n",
      "2518/2518 [==============================] - 0s 15us/step - loss: 0.4431 - accuracy: 0.9098\n",
      "Epoch 27/150\n",
      "2518/2518 [==============================] - 0s 15us/step - loss: 0.4361 - accuracy: 0.9114\n",
      "Epoch 28/150\n",
      "2518/2518 [==============================] - 0s 15us/step - loss: 0.4294 - accuracy: 0.9126\n",
      "Epoch 29/150\n",
      "2518/2518 [==============================] - 0s 16us/step - loss: 0.4232 - accuracy: 0.9186\n",
      "Epoch 30/150\n",
      "2518/2518 [==============================] - 0s 15us/step - loss: 0.4166 - accuracy: 0.9166\n",
      "Epoch 31/150\n",
      "2518/2518 [==============================] - 0s 15us/step - loss: 0.4105 - accuracy: 0.9170\n",
      "Epoch 32/150\n",
      "2518/2518 [==============================] - 0s 16us/step - loss: 0.4048 - accuracy: 0.9170\n",
      "Epoch 33/150\n",
      "2518/2518 [==============================] - 0s 15us/step - loss: 0.3994 - accuracy: 0.9190\n",
      "Epoch 34/150\n",
      "2518/2518 [==============================] - 0s 15us/step - loss: 0.3941 - accuracy: 0.9206\n",
      "Epoch 35/150\n",
      "2518/2518 [==============================] - 0s 15us/step - loss: 0.3887 - accuracy: 0.9210\n",
      "Epoch 36/150\n",
      "2518/2518 [==============================] - 0s 16us/step - loss: 0.3838 - accuracy: 0.9249\n",
      "Epoch 37/150\n",
      "2518/2518 [==============================] - 0s 14us/step - loss: 0.3787 - accuracy: 0.9257\n",
      "Epoch 38/150\n",
      "2518/2518 [==============================] - 0s 15us/step - loss: 0.3741 - accuracy: 0.9265\n",
      "Epoch 39/150\n",
      "2518/2518 [==============================] - 0s 15us/step - loss: 0.3694 - accuracy: 0.9269\n",
      "Epoch 40/150\n",
      "2518/2518 [==============================] - 0s 15us/step - loss: 0.3650 - accuracy: 0.9285\n",
      "Epoch 41/150\n",
      "2518/2518 [==============================] - 0s 15us/step - loss: 0.3607 - accuracy: 0.9297\n",
      "Epoch 42/150\n",
      "2518/2518 [==============================] - 0s 15us/step - loss: 0.3566 - accuracy: 0.9297\n",
      "Epoch 43/150\n",
      "2518/2518 [==============================] - 0s 15us/step - loss: 0.3522 - accuracy: 0.9313\n",
      "Epoch 44/150\n",
      "2518/2518 [==============================] - 0s 15us/step - loss: 0.3482 - accuracy: 0.9317\n",
      "Epoch 45/150\n",
      "2518/2518 [==============================] - 0s 15us/step - loss: 0.3441 - accuracy: 0.9317\n",
      "Epoch 46/150\n",
      "2518/2518 [==============================] - 0s 15us/step - loss: 0.3402 - accuracy: 0.9325\n",
      "Epoch 47/150\n",
      "2518/2518 [==============================] - 0s 16us/step - loss: 0.3362 - accuracy: 0.9345\n",
      "Epoch 48/150\n",
      "2518/2518 [==============================] - 0s 15us/step - loss: 0.3327 - accuracy: 0.9353\n",
      "Epoch 49/150\n",
      "2518/2518 [==============================] - 0s 15us/step - loss: 0.3290 - accuracy: 0.9345\n",
      "Epoch 50/150\n",
      "2518/2518 [==============================] - 0s 15us/step - loss: 0.3251 - accuracy: 0.9361\n",
      "Epoch 51/150\n",
      "2518/2518 [==============================] - 0s 15us/step - loss: 0.3218 - accuracy: 0.9369\n",
      "Epoch 52/150\n",
      "2518/2518 [==============================] - 0s 15us/step - loss: 0.3182 - accuracy: 0.9373\n",
      "Epoch 53/150\n",
      "2518/2518 [==============================] - 0s 16us/step - loss: 0.3146 - accuracy: 0.9384\n",
      "Epoch 54/150\n",
      "2518/2518 [==============================] - 0s 14us/step - loss: 0.3114 - accuracy: 0.9380\n",
      "Epoch 55/150\n",
      "2518/2518 [==============================] - 0s 15us/step - loss: 0.3081 - accuracy: 0.9384\n",
      "Epoch 56/150\n",
      "2518/2518 [==============================] - 0s 15us/step - loss: 0.3048 - accuracy: 0.9388\n",
      "Epoch 57/150\n",
      "2518/2518 [==============================] - 0s 14us/step - loss: 0.3018 - accuracy: 0.9396\n",
      "Epoch 58/150\n",
      "2518/2518 [==============================] - 0s 15us/step - loss: 0.2991 - accuracy: 0.9400\n",
      "Epoch 59/150\n",
      "2518/2518 [==============================] - 0s 14us/step - loss: 0.2958 - accuracy: 0.9420\n",
      "Epoch 60/150\n",
      "2518/2518 [==============================] - 0s 15us/step - loss: 0.2929 - accuracy: 0.9400\n",
      "Epoch 61/150\n",
      "2518/2518 [==============================] - 0s 14us/step - loss: 0.2899 - accuracy: 0.9416\n",
      "Epoch 62/150\n",
      "2518/2518 [==============================] - 0s 15us/step - loss: 0.2872 - accuracy: 0.9424\n",
      "Epoch 63/150\n",
      "2518/2518 [==============================] - 0s 14us/step - loss: 0.2844 - accuracy: 0.9424\n",
      "Epoch 64/150\n",
      "2518/2518 [==============================] - 0s 14us/step - loss: 0.2817 - accuracy: 0.9432\n",
      "Epoch 65/150\n",
      "2518/2518 [==============================] - 0s 16us/step - loss: 0.2791 - accuracy: 0.9420\n",
      "Epoch 66/150\n",
      "2518/2518 [==============================] - 0s 14us/step - loss: 0.2764 - accuracy: 0.9448\n",
      "Epoch 67/150\n",
      "2518/2518 [==============================] - 0s 14us/step - loss: 0.2740 - accuracy: 0.9440\n",
      "Epoch 68/150\n",
      "2518/2518 [==============================] - 0s 14us/step - loss: 0.2713 - accuracy: 0.9440\n",
      "Epoch 69/150\n",
      "2518/2518 [==============================] - 0s 15us/step - loss: 0.2689 - accuracy: 0.9440\n",
      "Epoch 70/150\n",
      "2518/2518 [==============================] - 0s 15us/step - loss: 0.2666 - accuracy: 0.9448\n",
      "Epoch 71/150\n",
      "2518/2518 [==============================] - 0s 14us/step - loss: 0.2647 - accuracy: 0.9460\n",
      "Epoch 72/150\n",
      "2518/2518 [==============================] - 0s 15us/step - loss: 0.2623 - accuracy: 0.9468\n",
      "Epoch 73/150\n",
      "2518/2518 [==============================] - 0s 15us/step - loss: 0.2595 - accuracy: 0.9452\n",
      "Epoch 74/150\n",
      "2518/2518 [==============================] - 0s 15us/step - loss: 0.2570 - accuracy: 0.9464\n",
      "Epoch 75/150\n",
      "2518/2518 [==============================] - 0s 15us/step - loss: 0.2550 - accuracy: 0.9476\n",
      "Epoch 76/150\n",
      "2518/2518 [==============================] - 0s 14us/step - loss: 0.2527 - accuracy: 0.9468\n",
      "Epoch 77/150\n",
      "2518/2518 [==============================] - 0s 15us/step - loss: 0.2505 - accuracy: 0.9484\n",
      "Epoch 78/150\n",
      "2518/2518 [==============================] - 0s 14us/step - loss: 0.2486 - accuracy: 0.9476\n",
      "Epoch 79/150\n"
     ]
    },
    {
     "name": "stdout",
     "output_type": "stream",
     "text": [
      "2518/2518 [==============================] - 0s 15us/step - loss: 0.2464 - accuracy: 0.9484\n",
      "Epoch 80/150\n",
      "2518/2518 [==============================] - 0s 14us/step - loss: 0.2439 - accuracy: 0.9496\n",
      "Epoch 81/150\n",
      "2518/2518 [==============================] - 0s 14us/step - loss: 0.2419 - accuracy: 0.9488\n",
      "Epoch 82/150\n",
      "2518/2518 [==============================] - 0s 13us/step - loss: 0.2403 - accuracy: 0.9496\n",
      "Epoch 83/150\n",
      "2518/2518 [==============================] - 0s 13us/step - loss: 0.2385 - accuracy: 0.9496\n",
      "Epoch 84/150\n",
      "2518/2518 [==============================] - 0s 13us/step - loss: 0.2361 - accuracy: 0.9519\n",
      "Epoch 85/150\n",
      "2518/2518 [==============================] - 0s 13us/step - loss: 0.2342 - accuracy: 0.9515\n",
      "Epoch 86/150\n",
      "2518/2518 [==============================] - 0s 13us/step - loss: 0.2322 - accuracy: 0.9527\n",
      "Epoch 87/150\n",
      "2518/2518 [==============================] - 0s 13us/step - loss: 0.2307 - accuracy: 0.9515\n",
      "Epoch 88/150\n",
      "2518/2518 [==============================] - 0s 14us/step - loss: 0.2281 - accuracy: 0.9535\n",
      "Epoch 89/150\n",
      "2518/2518 [==============================] - 0s 13us/step - loss: 0.2268 - accuracy: 0.9527\n",
      "Epoch 90/150\n",
      "2518/2518 [==============================] - 0s 13us/step - loss: 0.2247 - accuracy: 0.9531\n",
      "Epoch 91/150\n",
      "2518/2518 [==============================] - 0s 13us/step - loss: 0.2229 - accuracy: 0.9551\n",
      "Epoch 92/150\n",
      "2518/2518 [==============================] - 0s 13us/step - loss: 0.2212 - accuracy: 0.9535\n",
      "Epoch 93/150\n",
      "2518/2518 [==============================] - 0s 13us/step - loss: 0.2193 - accuracy: 0.9551\n",
      "Epoch 94/150\n",
      "2518/2518 [==============================] - 0s 13us/step - loss: 0.2175 - accuracy: 0.9551\n",
      "Epoch 95/150\n",
      "2518/2518 [==============================] - 0s 13us/step - loss: 0.2157 - accuracy: 0.9539\n",
      "Epoch 96/150\n",
      "2518/2518 [==============================] - 0s 13us/step - loss: 0.2142 - accuracy: 0.9543\n",
      "Epoch 97/150\n",
      "2518/2518 [==============================] - 0s 13us/step - loss: 0.2125 - accuracy: 0.9535\n",
      "Epoch 98/150\n",
      "2518/2518 [==============================] - 0s 14us/step - loss: 0.2113 - accuracy: 0.9551\n",
      "Epoch 99/150\n",
      "2518/2518 [==============================] - 0s 13us/step - loss: 0.2093 - accuracy: 0.9551\n",
      "Epoch 100/150\n",
      "2518/2518 [==============================] - 0s 13us/step - loss: 0.2076 - accuracy: 0.9555\n",
      "Epoch 101/150\n",
      "2518/2518 [==============================] - 0s 14us/step - loss: 0.2060 - accuracy: 0.9547\n",
      "Epoch 102/150\n",
      "2518/2518 [==============================] - 0s 13us/step - loss: 0.2045 - accuracy: 0.9547\n",
      "Epoch 103/150\n",
      "2518/2518 [==============================] - 0s 13us/step - loss: 0.2030 - accuracy: 0.9543\n",
      "Epoch 104/150\n",
      "2518/2518 [==============================] - 0s 13us/step - loss: 0.2012 - accuracy: 0.9563\n",
      "Epoch 105/150\n",
      "2518/2518 [==============================] - 0s 13us/step - loss: 0.1997 - accuracy: 0.9575\n",
      "Epoch 106/150\n",
      "2518/2518 [==============================] - 0s 13us/step - loss: 0.1981 - accuracy: 0.9567\n",
      "Epoch 107/150\n",
      "2518/2518 [==============================] - 0s 13us/step - loss: 0.1969 - accuracy: 0.9571\n",
      "Epoch 108/150\n",
      "2518/2518 [==============================] - 0s 15us/step - loss: 0.1952 - accuracy: 0.9575\n",
      "Epoch 109/150\n",
      "2518/2518 [==============================] - 0s 13us/step - loss: 0.1936 - accuracy: 0.9583\n",
      "Epoch 110/150\n",
      "2518/2518 [==============================] - 0s 13us/step - loss: 0.1924 - accuracy: 0.9595\n",
      "Epoch 111/150\n",
      "2518/2518 [==============================] - 0s 14us/step - loss: 0.1918 - accuracy: 0.9587\n",
      "Epoch 112/150\n",
      "2518/2518 [==============================] - 0s 13us/step - loss: 0.1892 - accuracy: 0.9599\n",
      "Epoch 113/150\n",
      "2518/2518 [==============================] - 0s 13us/step - loss: 0.1877 - accuracy: 0.9591\n",
      "Epoch 114/150\n",
      "2518/2518 [==============================] - 0s 13us/step - loss: 0.1864 - accuracy: 0.9607\n",
      "Epoch 115/150\n",
      "2518/2518 [==============================] - 0s 13us/step - loss: 0.1851 - accuracy: 0.9599\n",
      "Epoch 116/150\n",
      "2518/2518 [==============================] - 0s 15us/step - loss: 0.1842 - accuracy: 0.9599\n",
      "Epoch 117/150\n",
      "2518/2518 [==============================] - 0s 15us/step - loss: 0.1827 - accuracy: 0.9619\n",
      "Epoch 118/150\n",
      "2518/2518 [==============================] - 0s 14us/step - loss: 0.1818 - accuracy: 0.9599\n",
      "Epoch 119/150\n",
      "2518/2518 [==============================] - 0s 13us/step - loss: 0.1803 - accuracy: 0.9611\n",
      "Epoch 120/150\n",
      "2518/2518 [==============================] - 0s 13us/step - loss: 0.1796 - accuracy: 0.9603\n",
      "Epoch 121/150\n",
      "2518/2518 [==============================] - 0s 14us/step - loss: 0.1784 - accuracy: 0.9619\n",
      "Epoch 122/150\n",
      "2518/2518 [==============================] - 0s 13us/step - loss: 0.1773 - accuracy: 0.9623\n",
      "Epoch 123/150\n",
      "2518/2518 [==============================] - 0s 13us/step - loss: 0.1765 - accuracy: 0.9619\n",
      "Epoch 124/150\n",
      "2518/2518 [==============================] - 0s 13us/step - loss: 0.1751 - accuracy: 0.9619\n",
      "Epoch 125/150\n",
      "2518/2518 [==============================] - 0s 15us/step - loss: 0.1744 - accuracy: 0.9615\n",
      "Epoch 126/150\n",
      "2518/2518 [==============================] - 0s 14us/step - loss: 0.1732 - accuracy: 0.9623\n",
      "Epoch 127/150\n",
      "2518/2518 [==============================] - 0s 13us/step - loss: 0.1718 - accuracy: 0.9635\n",
      "Epoch 128/150\n",
      "2518/2518 [==============================] - 0s 13us/step - loss: 0.1709 - accuracy: 0.9631\n",
      "Epoch 129/150\n",
      "2518/2518 [==============================] - 0s 13us/step - loss: 0.1700 - accuracy: 0.9631\n",
      "Epoch 130/150\n",
      "2518/2518 [==============================] - 0s 13us/step - loss: 0.1689 - accuracy: 0.9635\n",
      "Epoch 131/150\n",
      "2518/2518 [==============================] - 0s 13us/step - loss: 0.1679 - accuracy: 0.9635\n",
      "Epoch 132/150\n",
      "2518/2518 [==============================] - 0s 13us/step - loss: 0.1668 - accuracy: 0.9639\n",
      "Epoch 133/150\n",
      "2518/2518 [==============================] - 0s 14us/step - loss: 0.1656 - accuracy: 0.9631\n",
      "Epoch 134/150\n",
      "2518/2518 [==============================] - 0s 15us/step - loss: 0.1650 - accuracy: 0.9639\n",
      "Epoch 135/150\n",
      "2518/2518 [==============================] - 0s 14us/step - loss: 0.1637 - accuracy: 0.9651\n",
      "Epoch 136/150\n",
      "2518/2518 [==============================] - 0s 14us/step - loss: 0.1629 - accuracy: 0.9654\n",
      "Epoch 137/150\n",
      "2518/2518 [==============================] - 0s 13us/step - loss: 0.1621 - accuracy: 0.9662\n",
      "Epoch 138/150\n",
      "2518/2518 [==============================] - 0s 13us/step - loss: 0.1613 - accuracy: 0.9658\n",
      "Epoch 139/150\n",
      "2518/2518 [==============================] - 0s 13us/step - loss: 0.1604 - accuracy: 0.9658\n",
      "Epoch 140/150\n",
      "2518/2518 [==============================] - 0s 14us/step - loss: 0.1598 - accuracy: 0.9658\n",
      "Epoch 141/150\n",
      "2518/2518 [==============================] - 0s 15us/step - loss: 0.1589 - accuracy: 0.9662\n",
      "Epoch 142/150\n",
      "2518/2518 [==============================] - 0s 14us/step - loss: 0.1584 - accuracy: 0.9662\n",
      "Epoch 143/150\n",
      "2518/2518 [==============================] - 0s 14us/step - loss: 0.1575 - accuracy: 0.9682\n",
      "Epoch 144/150\n",
      "2518/2518 [==============================] - 0s 13us/step - loss: 0.1567 - accuracy: 0.9674\n",
      "Epoch 145/150\n",
      "2518/2518 [==============================] - 0s 13us/step - loss: 0.1561 - accuracy: 0.9674\n",
      "Epoch 146/150\n",
      "2518/2518 [==============================] - 0s 14us/step - loss: 0.1554 - accuracy: 0.9678\n",
      "Epoch 147/150\n",
      "2518/2518 [==============================] - 0s 13us/step - loss: 0.1544 - accuracy: 0.9670\n",
      "Epoch 148/150\n",
      "2518/2518 [==============================] - 0s 13us/step - loss: 0.1536 - accuracy: 0.9678\n",
      "Epoch 149/150\n",
      "2518/2518 [==============================] - 0s 14us/step - loss: 0.1528 - accuracy: 0.9678\n",
      "Epoch 150/150\n",
      "2518/2518 [==============================] - 0s 15us/step - loss: 0.1524 - accuracy: 0.9678\n"
     ]
    },
    {
     "data": {
      "text/plain": [
       "<keras.callbacks.callbacks.History at 0x140744d2c18>"
      ]
     },
     "execution_count": 44,
     "metadata": {},
     "output_type": "execute_result"
    }
   ],
   "source": [
    "features = 190\n",
    "## Create a new model and add some layers\n",
    "model = models.Sequential()\n",
    "# First layer includes the dimension of the training feature vectors (N)\n",
    "model.add(layers.Dense(4, input_dim=features, activation='relu'))\n",
    "# Standard fully connected layer\n",
    "model.add(layers.Dense(4, activation='relu'))\n",
    "# # Another standard fully connected layer\n",
    "# model.add(layers.Dense(4, activation='relu'))\n",
    "# Output layer has 1 element (binary classification) and uses sigmoid\n",
    "model.add(layers.Dense(1, activation='sigmoid'))\n",
    "model.compile(optimizer='adam', loss='binary_crossentropy', metrics=['accuracy'])\n",
    "model.fit(X_train[:,:features], y_train, epochs=150, batch_size=128)"
   ]
  },
  {
   "cell_type": "code",
   "execution_count": 20,
   "metadata": {},
   "outputs": [
    {
     "name": "stdout",
     "output_type": "stream",
     "text": [
      "840/840 [==============================] - 0s 76us/step\n"
     ]
    },
    {
     "data": {
      "text/plain": [
       "[1.1389494736989338, 0.8654761910438538]"
      ]
     },
     "execution_count": 20,
     "metadata": {},
     "output_type": "execute_result"
    }
   ],
   "source": [
    "loss_and_metrics = model.evaluate(X_validate[:,:features], y_validate, batch_size=128)\n",
    "loss_and_metrics"
   ]
  },
  {
   "cell_type": "markdown",
   "metadata": {},
   "source": [
    "### 2.3 Deal with overfitting (variance)\n",
    "\n",
    "The above model is 99% accurate on the training data, but only 87% accurate on the validation data. This indicates <b>overfitting</b>, also known as variance.\n",
    "\n",
    "We can address this by adding regularization. \n",
    "\n",
    "First add a dropout layer between each pair of fully connected layers. Use 25% dropout probability.\n",
    "Next add L1 and/or L2 regularization."
   ]
  },
  {
   "cell_type": "code",
   "execution_count": 41,
   "metadata": {},
   "outputs": [],
   "source": [
    "model = models.Sequential()\n",
    "# First layer includes the dimension of the training feature vectors (N)\n",
    "model.add(layers.Dense(16, input_dim=features, activation='relu', kernel_regularizer=regularizers.l2(0.005)))\n",
    "# Drop out nodes with probability 0.5\n",
    "model.add(layers.Dropout(0.5))\n",
    "# Standard fully connected layer\n",
    "model.add(layers.Dense(16, activation='relu', kernel_regularizer=regularizers.l2(0.005)))\n",
    "# Dropout with probability 0.5\n",
    "model.add(layers.Dropout(0.5))\n",
    "# Standard fully connected layer\n",
    "model.add(layers.Dense(16, activation='relu', kernel_regularizer=regularizers.l2(0.005)))\n",
    "# Dropout with probability 0.5\n",
    "model.add(layers.Dropout(0.5))\n",
    "# Output layer has 1 element (binary classification) and uses sigmoid\n",
    "model.add(layers.Dense(1, activation='sigmoid'))"
   ]
  },
  {
   "cell_type": "code",
   "execution_count": 42,
   "metadata": {},
   "outputs": [
    {
     "name": "stdout",
     "output_type": "stream",
     "text": [
      "Train on 2518 samples, validate on 840 samples\n",
      "Epoch 1/150\n",
      "2518/2518 [==============================] - 1s 215us/step - loss: 1.0203 - acc: 0.4944 - val_loss: 0.9532 - val_acc: 0.6417\n",
      "Epoch 2/150\n",
      "2518/2518 [==============================] - 0s 21us/step - loss: 0.9428 - acc: 0.5973 - val_loss: 0.9077 - val_acc: 0.6607\n",
      "Epoch 3/150\n",
      "2518/2518 [==============================] - 0s 20us/step - loss: 0.8928 - acc: 0.6489 - val_loss: 0.8687 - val_acc: 0.6607\n",
      "Epoch 4/150\n",
      "2518/2518 [==============================] - 0s 22us/step - loss: 0.8570 - acc: 0.6604 - val_loss: 0.8328 - val_acc: 0.6607\n",
      "Epoch 5/150\n",
      "2518/2518 [==============================] - 0s 20us/step - loss: 0.8229 - acc: 0.6676 - val_loss: 0.8019 - val_acc: 0.6607\n",
      "Epoch 6/150\n",
      "2518/2518 [==============================] - 0s 21us/step - loss: 0.7921 - acc: 0.6680 - val_loss: 0.7728 - val_acc: 0.6607\n",
      "Epoch 7/150\n",
      "2518/2518 [==============================] - 0s 19us/step - loss: 0.7599 - acc: 0.6720 - val_loss: 0.7451 - val_acc: 0.6607\n",
      "Epoch 8/150\n",
      "2518/2518 [==============================] - 0s 19us/step - loss: 0.7388 - acc: 0.6732 - val_loss: 0.7201 - val_acc: 0.6607\n",
      "Epoch 9/150\n",
      "2518/2518 [==============================] - 0s 21us/step - loss: 0.7160 - acc: 0.6739 - val_loss: 0.6935 - val_acc: 0.6607\n",
      "Epoch 10/150\n",
      "2518/2518 [==============================] - 0s 19us/step - loss: 0.6995 - acc: 0.6755 - val_loss: 0.6692 - val_acc: 0.6607\n",
      "Epoch 11/150\n",
      "2518/2518 [==============================] - 0s 21us/step - loss: 0.6777 - acc: 0.6743 - val_loss: 0.6463 - val_acc: 0.6607\n",
      "Epoch 12/150\n",
      "2518/2518 [==============================] - 0s 19us/step - loss: 0.6549 - acc: 0.6795 - val_loss: 0.6200 - val_acc: 0.6607\n",
      "Epoch 13/150\n",
      "2518/2518 [==============================] - 0s 20us/step - loss: 0.6360 - acc: 0.6847 - val_loss: 0.5928 - val_acc: 0.6607\n",
      "Epoch 14/150\n",
      "2518/2518 [==============================] - 0s 20us/step - loss: 0.6168 - acc: 0.6974 - val_loss: 0.5732 - val_acc: 0.6702\n",
      "Epoch 15/150\n",
      "2518/2518 [==============================] - 0s 19us/step - loss: 0.5860 - acc: 0.7244 - val_loss: 0.5479 - val_acc: 0.7369\n",
      "Epoch 16/150\n",
      "2518/2518 [==============================] - 0s 19us/step - loss: 0.5616 - acc: 0.7438 - val_loss: 0.5201 - val_acc: 0.8107\n",
      "Epoch 17/150\n",
      "2518/2518 [==============================] - 0s 27us/step - loss: 0.5572 - acc: 0.7462 - val_loss: 0.5014 - val_acc: 0.8298\n",
      "Epoch 18/150\n",
      "2518/2518 [==============================] - 0s 20us/step - loss: 0.5244 - acc: 0.7855 - val_loss: 0.4834 - val_acc: 0.8381\n",
      "Epoch 19/150\n",
      "2518/2518 [==============================] - 0s 21us/step - loss: 0.5055 - acc: 0.8094 - val_loss: 0.4675 - val_acc: 0.8417\n",
      "Epoch 20/150\n",
      "2518/2518 [==============================] - 0s 19us/step - loss: 0.4893 - acc: 0.8157 - val_loss: 0.4557 - val_acc: 0.8405\n",
      "Epoch 21/150\n",
      "2518/2518 [==============================] - 0s 19us/step - loss: 0.4764 - acc: 0.8439 - val_loss: 0.4485 - val_acc: 0.8464\n",
      "Epoch 22/150\n",
      "2518/2518 [==============================] - 0s 20us/step - loss: 0.4768 - acc: 0.8328 - val_loss: 0.4442 - val_acc: 0.8464\n",
      "Epoch 23/150\n",
      "2518/2518 [==============================] - 0s 22us/step - loss: 0.4553 - acc: 0.8531 - val_loss: 0.4384 - val_acc: 0.8476\n",
      "Epoch 24/150\n",
      "2518/2518 [==============================] - 0s 19us/step - loss: 0.4527 - acc: 0.8519 - val_loss: 0.4336 - val_acc: 0.8488\n",
      "Epoch 25/150\n",
      "2518/2518 [==============================] - 0s 19us/step - loss: 0.4360 - acc: 0.8511 - val_loss: 0.4326 - val_acc: 0.8548\n",
      "Epoch 26/150\n",
      "2518/2518 [==============================] - 0s 19us/step - loss: 0.4337 - acc: 0.8550 - val_loss: 0.4340 - val_acc: 0.8512\n",
      "Epoch 27/150\n",
      "2518/2518 [==============================] - 0s 21us/step - loss: 0.4299 - acc: 0.8650 - val_loss: 0.4314 - val_acc: 0.8548\n",
      "Epoch 28/150\n",
      "2518/2518 [==============================] - 0s 19us/step - loss: 0.4295 - acc: 0.8654 - val_loss: 0.4289 - val_acc: 0.8631\n",
      "Epoch 29/150\n",
      "2518/2518 [==============================] - 0s 19us/step - loss: 0.4193 - acc: 0.8693 - val_loss: 0.4305 - val_acc: 0.8607\n",
      "Epoch 30/150\n",
      "2518/2518 [==============================] - 0s 19us/step - loss: 0.4107 - acc: 0.8848 - val_loss: 0.4364 - val_acc: 0.8500\n",
      "Epoch 31/150\n",
      "2518/2518 [==============================] - 0s 19us/step - loss: 0.4164 - acc: 0.8785 - val_loss: 0.4338 - val_acc: 0.8595\n",
      "Epoch 32/150\n",
      "2518/2518 [==============================] - 0s 19us/step - loss: 0.3973 - acc: 0.8824 - val_loss: 0.4337 - val_acc: 0.8560\n",
      "Epoch 33/150\n",
      "2518/2518 [==============================] - 0s 19us/step - loss: 0.3950 - acc: 0.8868 - val_loss: 0.4399 - val_acc: 0.8524\n",
      "Epoch 34/150\n",
      "2518/2518 [==============================] - 0s 21us/step - loss: 0.4059 - acc: 0.8773 - val_loss: 0.4358 - val_acc: 0.8595\n",
      "Epoch 35/150\n",
      "2518/2518 [==============================] - 0s 19us/step - loss: 0.3965 - acc: 0.8836 - val_loss: 0.4349 - val_acc: 0.8595\n",
      "Epoch 36/150\n",
      "2518/2518 [==============================] - 0s 19us/step - loss: 0.3890 - acc: 0.8828 - val_loss: 0.4350 - val_acc: 0.8655\n",
      "Epoch 37/150\n",
      "2518/2518 [==============================] - 0s 20us/step - loss: 0.3842 - acc: 0.8936 - val_loss: 0.4349 - val_acc: 0.8643\n",
      "Epoch 38/150\n",
      "2518/2518 [==============================] - 0s 19us/step - loss: 0.3853 - acc: 0.8920 - val_loss: 0.4356 - val_acc: 0.8643\n",
      "Epoch 39/150\n",
      "2518/2518 [==============================] - 0s 19us/step - loss: 0.3831 - acc: 0.8900 - val_loss: 0.4357 - val_acc: 0.8679\n",
      "Epoch 40/150\n",
      "2518/2518 [==============================] - 0s 19us/step - loss: 0.3847 - acc: 0.8944 - val_loss: 0.4375 - val_acc: 0.8607\n",
      "Epoch 41/150\n",
      "2518/2518 [==============================] - 0s 21us/step - loss: 0.3717 - acc: 0.8948 - val_loss: 0.4337 - val_acc: 0.8595\n",
      "Epoch 42/150\n",
      "2518/2518 [==============================] - 0s 20us/step - loss: 0.3861 - acc: 0.8813 - val_loss: 0.4334 - val_acc: 0.8655\n",
      "Epoch 43/150\n",
      "2518/2518 [==============================] - 0s 19us/step - loss: 0.3672 - acc: 0.8963 - val_loss: 0.4374 - val_acc: 0.8643\n",
      "Epoch 44/150\n",
      "2518/2518 [==============================] - 0s 21us/step - loss: 0.3640 - acc: 0.8928 - val_loss: 0.4442 - val_acc: 0.8667\n",
      "Epoch 45/150\n",
      "2518/2518 [==============================] - 0s 21us/step - loss: 0.3713 - acc: 0.8868 - val_loss: 0.4359 - val_acc: 0.8607\n",
      "Epoch 46/150\n",
      "2518/2518 [==============================] - 0s 20us/step - loss: 0.3630 - acc: 0.8983 - val_loss: 0.4421 - val_acc: 0.8631\n",
      "Epoch 47/150\n",
      "2518/2518 [==============================] - 0s 19us/step - loss: 0.3603 - acc: 0.8963 - val_loss: 0.4362 - val_acc: 0.8607\n",
      "Epoch 48/150\n",
      "2518/2518 [==============================] - 0s 19us/step - loss: 0.3593 - acc: 0.9027 - val_loss: 0.4434 - val_acc: 0.8607\n",
      "Epoch 49/150\n",
      "2518/2518 [==============================] - 0s 20us/step - loss: 0.3528 - acc: 0.9007 - val_loss: 0.4435 - val_acc: 0.8702\n",
      "Epoch 50/150\n",
      "2518/2518 [==============================] - 0s 19us/step - loss: 0.3571 - acc: 0.8971 - val_loss: 0.4374 - val_acc: 0.8595\n",
      "Epoch 51/150\n",
      "2518/2518 [==============================] - 0s 21us/step - loss: 0.3558 - acc: 0.9067 - val_loss: 0.4385 - val_acc: 0.8643\n",
      "Epoch 52/150\n",
      "2518/2518 [==============================] - 0s 20us/step - loss: 0.3539 - acc: 0.9059 - val_loss: 0.4383 - val_acc: 0.8679\n",
      "Epoch 53/150\n",
      "2518/2518 [==============================] - 0s 20us/step - loss: 0.3388 - acc: 0.9130 - val_loss: 0.4335 - val_acc: 0.8643\n",
      "Epoch 54/150\n",
      "2518/2518 [==============================] - 0s 19us/step - loss: 0.3540 - acc: 0.9027 - val_loss: 0.4330 - val_acc: 0.8631\n",
      "Epoch 55/150\n",
      "2518/2518 [==============================] - 0s 20us/step - loss: 0.3448 - acc: 0.9039 - val_loss: 0.4387 - val_acc: 0.8619\n",
      "Epoch 56/150\n",
      "2518/2518 [==============================] - 0s 20us/step - loss: 0.3426 - acc: 0.9043 - val_loss: 0.4351 - val_acc: 0.8667\n",
      "Epoch 57/150\n",
      "2518/2518 [==============================] - 0s 18us/step - loss: 0.3414 - acc: 0.9122 - val_loss: 0.4376 - val_acc: 0.8702\n",
      "Epoch 58/150\n",
      "2518/2518 [==============================] - 0s 19us/step - loss: 0.3399 - acc: 0.8983 - val_loss: 0.4379 - val_acc: 0.8607\n",
      "Epoch 59/150\n",
      "2518/2518 [==============================] - 0s 19us/step - loss: 0.3338 - acc: 0.9106 - val_loss: 0.4428 - val_acc: 0.8631\n",
      "Epoch 60/150\n"
     ]
    },
    {
     "name": "stdout",
     "output_type": "stream",
     "text": [
      "2518/2518 [==============================] - 0s 20us/step - loss: 0.3384 - acc: 0.9142 - val_loss: 0.4376 - val_acc: 0.8595\n",
      "Epoch 61/150\n",
      "2518/2518 [==============================] - 0s 19us/step - loss: 0.3406 - acc: 0.9055 - val_loss: 0.4364 - val_acc: 0.8655\n",
      "Epoch 62/150\n",
      "2518/2518 [==============================] - 0s 19us/step - loss: 0.3365 - acc: 0.9130 - val_loss: 0.4385 - val_acc: 0.8607\n",
      "Epoch 63/150\n",
      "2518/2518 [==============================] - 0s 19us/step - loss: 0.3424 - acc: 0.9051 - val_loss: 0.4322 - val_acc: 0.8619\n",
      "Epoch 64/150\n",
      "2518/2518 [==============================] - 0s 19us/step - loss: 0.3342 - acc: 0.9091 - val_loss: 0.4351 - val_acc: 0.8643\n",
      "Epoch 65/150\n",
      "2518/2518 [==============================] - 0s 19us/step - loss: 0.3375 - acc: 0.9098 - val_loss: 0.4364 - val_acc: 0.8643\n",
      "Epoch 66/150\n",
      "2518/2518 [==============================] - 0s 19us/step - loss: 0.3313 - acc: 0.9067 - val_loss: 0.4344 - val_acc: 0.8631\n",
      "Epoch 67/150\n",
      "2518/2518 [==============================] - 0s 18us/step - loss: 0.3408 - acc: 0.9091 - val_loss: 0.4391 - val_acc: 0.8738\n",
      "Epoch 68/150\n",
      "2518/2518 [==============================] - 0s 19us/step - loss: 0.3385 - acc: 0.9122 - val_loss: 0.4253 - val_acc: 0.8702\n",
      "Epoch 69/150\n",
      "2518/2518 [==============================] - 0s 19us/step - loss: 0.3348 - acc: 0.9079 - val_loss: 0.4282 - val_acc: 0.8679\n",
      "Epoch 70/150\n",
      "2518/2518 [==============================] - 0s 19us/step - loss: 0.3355 - acc: 0.8967 - val_loss: 0.4314 - val_acc: 0.8690\n",
      "Epoch 71/150\n",
      "2518/2518 [==============================] - 0s 18us/step - loss: 0.3351 - acc: 0.9059 - val_loss: 0.4309 - val_acc: 0.8631\n",
      "Epoch 72/150\n",
      "2518/2518 [==============================] - 0s 19us/step - loss: 0.3294 - acc: 0.9134 - val_loss: 0.4299 - val_acc: 0.8643\n",
      "Epoch 73/150\n",
      "2518/2518 [==============================] - 0s 17us/step - loss: 0.3304 - acc: 0.9110 - val_loss: 0.4248 - val_acc: 0.8655\n",
      "Epoch 74/150\n",
      "2518/2518 [==============================] - 0s 18us/step - loss: 0.3329 - acc: 0.9063 - val_loss: 0.4290 - val_acc: 0.8667\n",
      "Epoch 75/150\n",
      "2518/2518 [==============================] - 0s 19us/step - loss: 0.3330 - acc: 0.9106 - val_loss: 0.4323 - val_acc: 0.8726\n",
      "Epoch 76/150\n",
      "2518/2518 [==============================] - 0s 19us/step - loss: 0.3164 - acc: 0.9190 - val_loss: 0.4250 - val_acc: 0.8690\n",
      "Epoch 77/150\n",
      "2518/2518 [==============================] - 0s 18us/step - loss: 0.3345 - acc: 0.9106 - val_loss: 0.4204 - val_acc: 0.8726\n",
      "Epoch 78/150\n",
      "2518/2518 [==============================] - 0s 18us/step - loss: 0.3240 - acc: 0.9174 - val_loss: 0.4329 - val_acc: 0.8702\n",
      "Epoch 79/150\n",
      "2518/2518 [==============================] - 0s 19us/step - loss: 0.3271 - acc: 0.9226 - val_loss: 0.4268 - val_acc: 0.8750\n",
      "Epoch 80/150\n",
      "2518/2518 [==============================] - 0s 19us/step - loss: 0.3266 - acc: 0.9186 - val_loss: 0.4247 - val_acc: 0.8679\n",
      "Epoch 81/150\n",
      "2518/2518 [==============================] - 0s 18us/step - loss: 0.3288 - acc: 0.9162 - val_loss: 0.4240 - val_acc: 0.8774\n",
      "Epoch 82/150\n",
      "2518/2518 [==============================] - 0s 18us/step - loss: 0.3276 - acc: 0.9067 - val_loss: 0.4299 - val_acc: 0.8702\n",
      "Epoch 83/150\n",
      "2518/2518 [==============================] - 0s 18us/step - loss: 0.3339 - acc: 0.9015 - val_loss: 0.4260 - val_acc: 0.8702\n",
      "Epoch 84/150\n",
      "2518/2518 [==============================] - 0s 19us/step - loss: 0.3152 - acc: 0.9126 - val_loss: 0.4356 - val_acc: 0.8655\n",
      "Epoch 85/150\n",
      "2518/2518 [==============================] - 0s 18us/step - loss: 0.3206 - acc: 0.9142 - val_loss: 0.4314 - val_acc: 0.8690\n",
      "Epoch 86/150\n",
      "2518/2518 [==============================] - 0s 18us/step - loss: 0.3184 - acc: 0.9158 - val_loss: 0.4323 - val_acc: 0.8726\n",
      "Epoch 87/150\n",
      "2518/2518 [==============================] - 0s 19us/step - loss: 0.3146 - acc: 0.9198 - val_loss: 0.4272 - val_acc: 0.8690\n",
      "Epoch 88/150\n",
      "2518/2518 [==============================] - 0s 18us/step - loss: 0.3191 - acc: 0.9095 - val_loss: 0.4309 - val_acc: 0.8750\n",
      "Epoch 89/150\n",
      "2518/2518 [==============================] - 0s 19us/step - loss: 0.3233 - acc: 0.9142 - val_loss: 0.4316 - val_acc: 0.8810\n",
      "Epoch 90/150\n",
      "2518/2518 [==============================] - 0s 19us/step - loss: 0.3164 - acc: 0.9198 - val_loss: 0.4294 - val_acc: 0.8750\n",
      "Epoch 91/150\n",
      "2518/2518 [==============================] - 0s 18us/step - loss: 0.3140 - acc: 0.9210 - val_loss: 0.4284 - val_acc: 0.8750\n",
      "Epoch 92/150\n",
      "2518/2518 [==============================] - 0s 19us/step - loss: 0.3148 - acc: 0.9194 - val_loss: 0.4280 - val_acc: 0.8762\n",
      "Epoch 93/150\n",
      "2518/2518 [==============================] - 0s 18us/step - loss: 0.3156 - acc: 0.9146 - val_loss: 0.4292 - val_acc: 0.8750\n",
      "Epoch 94/150\n",
      "2518/2518 [==============================] - 0s 19us/step - loss: 0.3051 - acc: 0.9218 - val_loss: 0.4314 - val_acc: 0.8714\n",
      "Epoch 95/150\n",
      "2518/2518 [==============================] - 0s 18us/step - loss: 0.3251 - acc: 0.9182 - val_loss: 0.4274 - val_acc: 0.8714\n",
      "Epoch 96/150\n",
      "2518/2518 [==============================] - 0s 18us/step - loss: 0.3238 - acc: 0.9174 - val_loss: 0.4269 - val_acc: 0.8726\n",
      "Epoch 97/150\n",
      "2518/2518 [==============================] - 0s 19us/step - loss: 0.3132 - acc: 0.9257 - val_loss: 0.4255 - val_acc: 0.8690\n",
      "Epoch 98/150\n",
      "2518/2518 [==============================] - 0s 18us/step - loss: 0.3158 - acc: 0.9134 - val_loss: 0.4286 - val_acc: 0.8655\n",
      "Epoch 99/150\n",
      "2518/2518 [==============================] - 0s 18us/step - loss: 0.3105 - acc: 0.9122 - val_loss: 0.4353 - val_acc: 0.8667\n",
      "Epoch 100/150\n",
      "2518/2518 [==============================] - 0s 20us/step - loss: 0.3060 - acc: 0.9174 - val_loss: 0.4323 - val_acc: 0.8679\n",
      "Epoch 101/150\n",
      "2518/2518 [==============================] - 0s 20us/step - loss: 0.3196 - acc: 0.9142 - val_loss: 0.4318 - val_acc: 0.8679\n",
      "Epoch 102/150\n",
      "2518/2518 [==============================] - 0s 19us/step - loss: 0.3123 - acc: 0.9202 - val_loss: 0.4368 - val_acc: 0.8679\n",
      "Epoch 103/150\n",
      "2518/2518 [==============================] - 0s 19us/step - loss: 0.3109 - acc: 0.9170 - val_loss: 0.4267 - val_acc: 0.8679\n",
      "Epoch 104/150\n",
      "2518/2518 [==============================] - 0s 18us/step - loss: 0.3187 - acc: 0.9122 - val_loss: 0.4356 - val_acc: 0.8679\n",
      "Epoch 105/150\n",
      "2518/2518 [==============================] - 0s 19us/step - loss: 0.3163 - acc: 0.9162 - val_loss: 0.4281 - val_acc: 0.8643\n",
      "Epoch 106/150\n",
      "2518/2518 [==============================] - 0s 18us/step - loss: 0.3170 - acc: 0.9098 - val_loss: 0.4297 - val_acc: 0.8690\n",
      "Epoch 107/150\n",
      "2518/2518 [==============================] - 0s 21us/step - loss: 0.3182 - acc: 0.9146 - val_loss: 0.4308 - val_acc: 0.8679\n",
      "Epoch 108/150\n",
      "2518/2518 [==============================] - 0s 19us/step - loss: 0.3136 - acc: 0.9202 - val_loss: 0.4310 - val_acc: 0.8679\n",
      "Epoch 109/150\n",
      "2518/2518 [==============================] - 0s 18us/step - loss: 0.3063 - acc: 0.9114 - val_loss: 0.4241 - val_acc: 0.8655\n",
      "Epoch 110/150\n",
      "2518/2518 [==============================] - 0s 18us/step - loss: 0.3060 - acc: 0.9218 - val_loss: 0.4323 - val_acc: 0.8690\n",
      "Epoch 111/150\n",
      "2518/2518 [==============================] - 0s 19us/step - loss: 0.3197 - acc: 0.9142 - val_loss: 0.4333 - val_acc: 0.8595\n",
      "Epoch 112/150\n",
      "2518/2518 [==============================] - 0s 19us/step - loss: 0.3064 - acc: 0.9269 - val_loss: 0.4308 - val_acc: 0.8690\n",
      "Epoch 113/150\n",
      "2518/2518 [==============================] - 0s 18us/step - loss: 0.3004 - acc: 0.9150 - val_loss: 0.4374 - val_acc: 0.8690\n",
      "Epoch 114/150\n",
      "2518/2518 [==============================] - 0s 18us/step - loss: 0.2933 - acc: 0.9230 - val_loss: 0.4340 - val_acc: 0.8679\n",
      "Epoch 115/150\n",
      "2518/2518 [==============================] - 0s 19us/step - loss: 0.3089 - acc: 0.9202 - val_loss: 0.4382 - val_acc: 0.8702\n",
      "Epoch 116/150\n",
      "2518/2518 [==============================] - 0s 18us/step - loss: 0.2965 - acc: 0.9281 - val_loss: 0.4401 - val_acc: 0.8655\n",
      "Epoch 117/150\n",
      "2518/2518 [==============================] - 0s 20us/step - loss: 0.3084 - acc: 0.9158 - val_loss: 0.4358 - val_acc: 0.8690\n",
      "Epoch 118/150\n",
      "2518/2518 [==============================] - 0s 19us/step - loss: 0.2996 - acc: 0.9253 - val_loss: 0.4402 - val_acc: 0.8679\n",
      "Epoch 119/150\n",
      "2518/2518 [==============================] - 0s 21us/step - loss: 0.3080 - acc: 0.9194 - val_loss: 0.4430 - val_acc: 0.8714\n"
     ]
    },
    {
     "name": "stdout",
     "output_type": "stream",
     "text": [
      "Epoch 120/150\n",
      "2518/2518 [==============================] - 0s 20us/step - loss: 0.3054 - acc: 0.9230 - val_loss: 0.4400 - val_acc: 0.8690\n",
      "Epoch 121/150\n",
      "2518/2518 [==============================] - 0s 19us/step - loss: 0.3050 - acc: 0.9241 - val_loss: 0.4341 - val_acc: 0.8702\n",
      "Epoch 122/150\n",
      "2518/2518 [==============================] - 0s 19us/step - loss: 0.3038 - acc: 0.9237 - val_loss: 0.4464 - val_acc: 0.8702\n",
      "Epoch 123/150\n",
      "2518/2518 [==============================] - 0s 20us/step - loss: 0.2873 - acc: 0.9273 - val_loss: 0.4383 - val_acc: 0.8738\n",
      "Epoch 124/150\n",
      "2518/2518 [==============================] - 0s 19us/step - loss: 0.2955 - acc: 0.9257 - val_loss: 0.4330 - val_acc: 0.8726\n",
      "Epoch 125/150\n",
      "2518/2518 [==============================] - 0s 22us/step - loss: 0.2990 - acc: 0.9281 - val_loss: 0.4382 - val_acc: 0.8702\n",
      "Epoch 126/150\n",
      "2518/2518 [==============================] - 0s 19us/step - loss: 0.2918 - acc: 0.9261 - val_loss: 0.4361 - val_acc: 0.8714\n",
      "Epoch 127/150\n",
      "2518/2518 [==============================] - 0s 18us/step - loss: 0.3033 - acc: 0.9273 - val_loss: 0.4341 - val_acc: 0.8679\n",
      "Epoch 128/150\n",
      "2518/2518 [==============================] - 0s 18us/step - loss: 0.3092 - acc: 0.9210 - val_loss: 0.4272 - val_acc: 0.8726\n",
      "Epoch 129/150\n",
      "2518/2518 [==============================] - 0s 18us/step - loss: 0.3026 - acc: 0.9230 - val_loss: 0.4244 - val_acc: 0.8762\n",
      "Epoch 130/150\n",
      "2518/2518 [==============================] - 0s 20us/step - loss: 0.3030 - acc: 0.9241 - val_loss: 0.4317 - val_acc: 0.8774\n",
      "Epoch 131/150\n",
      "2518/2518 [==============================] - 0s 20us/step - loss: 0.2983 - acc: 0.9214 - val_loss: 0.4300 - val_acc: 0.8702\n",
      "Epoch 132/150\n",
      "2518/2518 [==============================] - 0s 19us/step - loss: 0.3052 - acc: 0.9166 - val_loss: 0.4279 - val_acc: 0.8774\n",
      "Epoch 133/150\n",
      "2518/2518 [==============================] - 0s 19us/step - loss: 0.2966 - acc: 0.9237 - val_loss: 0.4299 - val_acc: 0.8786\n",
      "Epoch 134/150\n",
      "2518/2518 [==============================] - 0s 20us/step - loss: 0.2931 - acc: 0.9245 - val_loss: 0.4380 - val_acc: 0.8750\n",
      "Epoch 135/150\n",
      "2518/2518 [==============================] - 0s 19us/step - loss: 0.2931 - acc: 0.9222 - val_loss: 0.4351 - val_acc: 0.8774\n",
      "Epoch 136/150\n",
      "2518/2518 [==============================] - 0s 19us/step - loss: 0.3039 - acc: 0.9178 - val_loss: 0.4251 - val_acc: 0.8726\n",
      "Epoch 137/150\n",
      "2518/2518 [==============================] - 0s 18us/step - loss: 0.3006 - acc: 0.9218 - val_loss: 0.4322 - val_acc: 0.8714\n",
      "Epoch 138/150\n",
      "2518/2518 [==============================] - 0s 18us/step - loss: 0.2984 - acc: 0.9230 - val_loss: 0.4343 - val_acc: 0.8762\n",
      "Epoch 139/150\n",
      "2518/2518 [==============================] - 0s 19us/step - loss: 0.2949 - acc: 0.9257 - val_loss: 0.4390 - val_acc: 0.8762\n",
      "Epoch 140/150\n",
      "2518/2518 [==============================] - 0s 19us/step - loss: 0.3020 - acc: 0.9214 - val_loss: 0.4433 - val_acc: 0.8738\n",
      "Epoch 141/150\n",
      "2518/2518 [==============================] - 0s 20us/step - loss: 0.3006 - acc: 0.9210 - val_loss: 0.4332 - val_acc: 0.8750\n",
      "Epoch 142/150\n",
      "2518/2518 [==============================] - 0s 20us/step - loss: 0.2895 - acc: 0.9269 - val_loss: 0.4298 - val_acc: 0.8798\n",
      "Epoch 143/150\n",
      "2518/2518 [==============================] - 0s 19us/step - loss: 0.2897 - acc: 0.9293 - val_loss: 0.4407 - val_acc: 0.8762\n",
      "Epoch 144/150\n",
      "2518/2518 [==============================] - 0s 20us/step - loss: 0.2940 - acc: 0.9241 - val_loss: 0.4391 - val_acc: 0.8798\n",
      "Epoch 145/150\n",
      "2518/2518 [==============================] - 0s 20us/step - loss: 0.2874 - acc: 0.9289 - val_loss: 0.4458 - val_acc: 0.8726\n",
      "Epoch 146/150\n",
      "2518/2518 [==============================] - 0s 19us/step - loss: 0.2842 - acc: 0.9249 - val_loss: 0.4429 - val_acc: 0.8738\n",
      "Epoch 147/150\n",
      "2518/2518 [==============================] - 0s 19us/step - loss: 0.2868 - acc: 0.9249 - val_loss: 0.4455 - val_acc: 0.8714\n",
      "Epoch 148/150\n",
      "2518/2518 [==============================] - 0s 18us/step - loss: 0.3020 - acc: 0.9214 - val_loss: 0.4409 - val_acc: 0.8726\n",
      "Epoch 149/150\n",
      "2518/2518 [==============================] - 0s 19us/step - loss: 0.2901 - acc: 0.9285 - val_loss: 0.4463 - val_acc: 0.8762\n",
      "Epoch 150/150\n",
      "2518/2518 [==============================] - 0s 20us/step - loss: 0.2842 - acc: 0.9261 - val_loss: 0.4480 - val_acc: 0.8786\n"
     ]
    },
    {
     "data": {
      "text/plain": [
       "<keras.callbacks.callbacks.History at 0x1406f603e48>"
      ]
     },
     "execution_count": 42,
     "metadata": {},
     "output_type": "execute_result"
    }
   ],
   "source": [
    "model.compile(optimizer='adam', loss='binary_crossentropy', metrics=['acc'])\n",
    "model.fit(X_train[:,:features], y_train, epochs=150, batch_size=128, validation_data=(X_validate[:,:features], y_validate))"
   ]
  },
  {
   "cell_type": "code",
   "execution_count": 20,
   "metadata": {},
   "outputs": [
    {
     "name": "stdout",
     "output_type": "stream",
     "text": [
      "840/840 [==============================] - 0s 68us/step\n"
     ]
    },
    {
     "data": {
      "text/plain": [
       "[0.4741794018518357, 0.8845238089561462]"
      ]
     },
     "execution_count": 20,
     "metadata": {},
     "output_type": "execute_result"
    }
   ],
   "source": [
    "loss_and_metrics = model.evaluate(X_validate[:,:features], y_validate, batch_size=128)\n",
    "loss_and_metrics"
   ]
  },
  {
   "cell_type": "code",
   "execution_count": null,
   "metadata": {},
   "outputs": [],
   "source": []
  }
 ],
 "metadata": {
  "kernelspec": {
   "display_name": "Python 3",
   "language": "python",
   "name": "python3"
  },
  "language_info": {
   "codemirror_mode": {
    "name": "ipython",
    "version": 3
   },
   "file_extension": ".py",
   "mimetype": "text/x-python",
   "name": "python",
   "nbconvert_exporter": "python",
   "pygments_lexer": "ipython3",
   "version": "3.6.7"
  }
 },
 "nbformat": 4,
 "nbformat_minor": 2
}
