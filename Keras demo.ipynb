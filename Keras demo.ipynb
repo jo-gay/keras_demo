{
 "cells": [
  {
   "cell_type": "markdown",
   "metadata": {},
   "source": [
    "# Building a neural network in Keras with Tensorflow #\n",
    "\n",
    "### A walkthrough for the Machine Learning Club\n",
    "\n",
    "The goal is to demonstrate how to build a simple neural network using Keras, a popular open source neural network library.\n",
    "\n",
    "The demonstration will use the spam assassin corpus that was used in the Coursera Machine Learning course that many members of the group have taken already (see week 7). In the coursera course, we trained a support vector machine (SVM) to classify spam. Here we will use a neural network instead."
   ]
  },
  {
   "cell_type": "code",
   "execution_count": 1,
   "metadata": {},
   "outputs": [],
   "source": [
    "import os\n",
    "import numpy as np\n",
    "import re\n",
    "from matplotlib import pyplot as plt\n",
    "%matplotlib inline"
   ]
  },
  {
   "cell_type": "code",
   "execution_count": 2,
   "metadata": {},
   "outputs": [],
   "source": [
    "import tensorflow as tf"
   ]
  },
  {
   "cell_type": "code",
   "execution_count": 3,
   "metadata": {},
   "outputs": [
    {
     "name": "stderr",
     "output_type": "stream",
     "text": [
      "Using TensorFlow backend.\n"
     ]
    }
   ],
   "source": [
    "import keras"
   ]
  },
  {
   "cell_type": "markdown",
   "metadata": {},
   "source": [
    "Setup steps:\n",
    "- Create new environment and activate it\n",
    "- Install python and packages per requirements.txt\n",
    "- Run <code>conda install jupyter</code>\n",
    "- Use <code>conda install nb_conda</code> to get Jupyter to use the environment\n",
    "\n",
    "\n",
    "#### Warning: Keras and Tensorflow have a lot of dependencies - it will take a while to install them all.\n",
    "\n",
    "requirements.txt\n",
    "\n",
    "- python\n",
    "- tensorflow\n",
    "- keras\n",
    "- matplotlib"
   ]
  },
  {
   "cell_type": "code",
   "execution_count": 4,
   "metadata": {},
   "outputs": [],
   "source": [
    "# import library written for coursera exercise 6, providing functions for preprocessing emails (slightly modified for this demo)\n",
    "# and tell it where the vocab list is saved\n",
    "import utils\n",
    "spamAssassinPath = 'C:\\\\Users\\\\Jo\\\\Documents\\\\coursera\\\\ml-coursera-python-assignments\\\\Exercise6\\\\Data\\\\'\n",
    "utils.setVocabListPath(os.path.join(spamAssassinPath, 'vocab.txt'))"
   ]
  },
  {
   "cell_type": "code",
   "execution_count": 20,
   "metadata": {
    "scrolled": true
   },
   "outputs": [
    {
     "data": {
      "text/plain": [
       "['aa',\n",
       " 'ab',\n",
       " 'abil',\n",
       " 'abl',\n",
       " 'about',\n",
       " 'abov',\n",
       " 'absolut',\n",
       " 'abus',\n",
       " 'ac',\n",
       " 'accept',\n",
       " 'access',\n",
       " 'accord']"
      ]
     },
     "execution_count": 20,
     "metadata": {},
     "output_type": "execute_result"
    }
   ],
   "source": [
    "# Take a look at the vocab list for info\n",
    "with open(os.path.join(spamAssassinPath, 'vocab.txt')) as fid:\n",
    "    vocab_list_contents = fid.read()\n",
    "vocab_list_contents.split()[1:25:2]"
   ]
  },
  {
   "cell_type": "code",
   "execution_count": 7,
   "metadata": {},
   "outputs": [
    {
     "name": "stdout",
     "output_type": "stream",
     "text": [
      "----------------\n",
      "Unprocessed email:\n",
      "----------------\n",
      "> Anyone knows how much it costs to host a web portal ?\n",
      ">\n",
      "Well, it depends on how many visitors you're expecting.\n",
      "This can be anywhere from less than 10 bucks a month to a couple of $100. \n",
      "You should checkout http://www.rackspace.com/ or perhaps Amazon EC2 \n",
      "if youre running something big..\n",
      "\n",
      "To unsubscribe yourself from this mailing list, send an email to:\n",
      "groupname-unsubscribe@egroups.com\n",
      "\n",
      "\n",
      "----------------\n",
      "Processed email:\n",
      "----------------\n",
      "anyon know how much it cost to host a web portal well it depend on how mani visitor your expect thi can be anywher from less than number buck a month to a coupl of dollar number you should checkout httpaddr or perhap amazon ec number if your run someth big to unsubscrib yourself from thi mail list send an email to emailaddr\n",
      "\n",
      "Length of feature vector: 1899\n",
      "Number of non-zero entries: 45\n"
     ]
    }
   ],
   "source": [
    "# Extract Features from a sample email\n",
    "with open(os.path.join(spamAssassinPath, 'emailSample1.txt')) as fid:\n",
    "    file_contents = fid.read()\n",
    "print('----------------')\n",
    "print('Unprocessed email:')\n",
    "print('----------------')\n",
    "print(file_contents)\n",
    "\n",
    "word_indices  = utils.processEmail(file_contents)\n",
    "features      = utils.emailFeatures(word_indices)\n",
    "\n",
    "# Print Stats\n",
    "print('\\nLength of feature vector: %d' % len(features))\n",
    "print('Number of non-zero entries: %d' % sum(features > 0))"
   ]
  },
  {
   "cell_type": "code",
   "execution_count": null,
   "metadata": {},
   "outputs": [],
   "source": []
  },
  {
   "cell_type": "code",
   "execution_count": null,
   "metadata": {},
   "outputs": [],
   "source": []
  },
  {
   "cell_type": "code",
   "execution_count": null,
   "metadata": {},
   "outputs": [],
   "source": []
  }
 ],
 "metadata": {
  "kernelspec": {
   "display_name": "Python 3",
   "language": "python",
   "name": "python3"
  },
  "language_info": {
   "codemirror_mode": {
    "name": "ipython",
    "version": 3
   },
   "file_extension": ".py",
   "mimetype": "text/x-python",
   "name": "python",
   "nbconvert_exporter": "python",
   "pygments_lexer": "ipython3",
   "version": "3.6.7"
  }
 },
 "nbformat": 4,
 "nbformat_minor": 2
}
